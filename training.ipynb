{
 "cells": [
  {
   "cell_type": "code",
   "execution_count": 1,
   "metadata": {},
   "outputs": [],
   "source": [
    "import os\n",
    "from PIL.Image import Image\n",
    "import numpy as np\n",
    "import scipy.signal as scs\n",
    "import pandas as pd\n",
    "import matplotlib.pyplot as plt\n",
    "import seaborn as sns\n",
    "from typing import Optional"
   ]
  },
  {
   "cell_type": "code",
   "execution_count": 2,
   "metadata": {},
   "outputs": [],
   "source": [
    "%matplotlib inline\n",
    "sns.set_style(\"whitegrid\")"
   ]
  },
  {
   "cell_type": "code",
   "execution_count": 3,
   "metadata": {},
   "outputs": [
    {
     "data": {
      "text/plain": [
       "'./dataset'"
      ]
     },
     "execution_count": 3,
     "metadata": {},
     "output_type": "execute_result"
    }
   ],
   "source": [
    "DATASET_PATH = os.path.join('.', 'dataset')\n",
    "DATASET_PATH"
   ]
  },
  {
   "cell_type": "code",
   "execution_count": 4,
   "metadata": {},
   "outputs": [
    {
     "data": {
      "text/plain": [
       "'./dataset/driving_log.csv'"
      ]
     },
     "execution_count": 4,
     "metadata": {},
     "output_type": "execute_result"
    }
   ],
   "source": [
    "DRIVING_LOG_FILENAME = 'driving_log.csv'\n",
    "DRIVING_LOG_PATH = os.path.join(DATASET_PATH, DRIVING_LOG_FILENAME)\n",
    "DRIVING_LOG_PATH"
   ]
  },
  {
   "cell_type": "code",
   "execution_count": 5,
   "metadata": {},
   "outputs": [
    {
     "data": {
      "text/html": [
       "<div>\n",
       "<style scoped>\n",
       "    .dataframe tbody tr th:only-of-type {\n",
       "        vertical-align: middle;\n",
       "    }\n",
       "\n",
       "    .dataframe tbody tr th {\n",
       "        vertical-align: top;\n",
       "    }\n",
       "\n",
       "    .dataframe thead th {\n",
       "        text-align: right;\n",
       "    }\n",
       "</style>\n",
       "<table border=\"1\" class=\"dataframe\">\n",
       "  <thead>\n",
       "    <tr style=\"text-align: right;\">\n",
       "      <th></th>\n",
       "      <th>Center Image</th>\n",
       "      <th>Left Image</th>\n",
       "      <th>Right Image</th>\n",
       "      <th>Steering Angle</th>\n",
       "      <th>Throttle</th>\n",
       "      <th>Brake</th>\n",
       "      <th>Speed</th>\n",
       "    </tr>\n",
       "  </thead>\n",
       "  <tbody>\n",
       "    <tr>\n",
       "      <th>6883</th>\n",
       "      <td>/home/markus/Desktop/Data/IMG/center_2018_10_0...</td>\n",
       "      <td>/home/markus/Desktop/Data/IMG/left_2018_10_07_...</td>\n",
       "      <td>/home/markus/Desktop/Data/IMG/right_2018_10_07...</td>\n",
       "      <td>0.541177</td>\n",
       "      <td>1.0</td>\n",
       "      <td>0.00000</td>\n",
       "      <td>13.08516</td>\n",
       "    </tr>\n",
       "    <tr>\n",
       "      <th>4739</th>\n",
       "      <td>/home/markus/Desktop/Data/IMG/center_2018_10_0...</td>\n",
       "      <td>/home/markus/Desktop/Data/IMG/left_2018_10_07_...</td>\n",
       "      <td>/home/markus/Desktop/Data/IMG/right_2018_10_07...</td>\n",
       "      <td>0.000000</td>\n",
       "      <td>0.0</td>\n",
       "      <td>0.48045</td>\n",
       "      <td>13.78682</td>\n",
       "    </tr>\n",
       "    <tr>\n",
       "      <th>9608</th>\n",
       "      <td>/home/markus/Desktop/Data/IMG/center_2018_10_0...</td>\n",
       "      <td>/home/markus/Desktop/Data/IMG/left_2018_10_07_...</td>\n",
       "      <td>/home/markus/Desktop/Data/IMG/right_2018_10_07...</td>\n",
       "      <td>0.000000</td>\n",
       "      <td>1.0</td>\n",
       "      <td>0.00000</td>\n",
       "      <td>30.19023</td>\n",
       "    </tr>\n",
       "    <tr>\n",
       "      <th>13080</th>\n",
       "      <td>/home/markus/Desktop/Data/IMG/center_2018_10_1...</td>\n",
       "      <td>/home/markus/Desktop/Data/IMG/left_2018_10_10_...</td>\n",
       "      <td>/home/markus/Desktop/Data/IMG/right_2018_10_10...</td>\n",
       "      <td>0.047059</td>\n",
       "      <td>1.0</td>\n",
       "      <td>0.00000</td>\n",
       "      <td>30.18997</td>\n",
       "    </tr>\n",
       "    <tr>\n",
       "      <th>10717</th>\n",
       "      <td>/home/markus/Desktop/Data/IMG/center_2018_10_1...</td>\n",
       "      <td>/home/markus/Desktop/Data/IMG/left_2018_10_10_...</td>\n",
       "      <td>/home/markus/Desktop/Data/IMG/right_2018_10_10...</td>\n",
       "      <td>-0.029412</td>\n",
       "      <td>1.0</td>\n",
       "      <td>0.00000</td>\n",
       "      <td>30.19022</td>\n",
       "    </tr>\n",
       "    <tr>\n",
       "      <th>7692</th>\n",
       "      <td>/home/markus/Desktop/Data/IMG/center_2018_10_0...</td>\n",
       "      <td>/home/markus/Desktop/Data/IMG/left_2018_10_07_...</td>\n",
       "      <td>/home/markus/Desktop/Data/IMG/right_2018_10_07...</td>\n",
       "      <td>0.361765</td>\n",
       "      <td>0.0</td>\n",
       "      <td>0.00000</td>\n",
       "      <td>16.44650</td>\n",
       "    </tr>\n",
       "    <tr>\n",
       "      <th>11733</th>\n",
       "      <td>/home/markus/Desktop/Data/IMG/center_2018_10_1...</td>\n",
       "      <td>/home/markus/Desktop/Data/IMG/left_2018_10_10_...</td>\n",
       "      <td>/home/markus/Desktop/Data/IMG/right_2018_10_10...</td>\n",
       "      <td>-0.023529</td>\n",
       "      <td>1.0</td>\n",
       "      <td>0.00000</td>\n",
       "      <td>30.19028</td>\n",
       "    </tr>\n",
       "    <tr>\n",
       "      <th>5654</th>\n",
       "      <td>/home/markus/Desktop/Data/IMG/center_2018_10_0...</td>\n",
       "      <td>/home/markus/Desktop/Data/IMG/left_2018_10_07_...</td>\n",
       "      <td>/home/markus/Desktop/Data/IMG/right_2018_10_07...</td>\n",
       "      <td>-0.994118</td>\n",
       "      <td>0.0</td>\n",
       "      <td>0.00000</td>\n",
       "      <td>12.07602</td>\n",
       "    </tr>\n",
       "    <tr>\n",
       "      <th>270</th>\n",
       "      <td>/home/markus/Desktop/Data/IMG/center_2018_10_0...</td>\n",
       "      <td>/home/markus/Desktop/Data/IMG/left_2018_10_07_...</td>\n",
       "      <td>/home/markus/Desktop/Data/IMG/right_2018_10_07...</td>\n",
       "      <td>0.000000</td>\n",
       "      <td>1.0</td>\n",
       "      <td>0.00000</td>\n",
       "      <td>30.19035</td>\n",
       "    </tr>\n",
       "    <tr>\n",
       "      <th>7736</th>\n",
       "      <td>/home/markus/Desktop/Data/IMG/center_2018_10_0...</td>\n",
       "      <td>/home/markus/Desktop/Data/IMG/left_2018_10_07_...</td>\n",
       "      <td>/home/markus/Desktop/Data/IMG/right_2018_10_07...</td>\n",
       "      <td>0.541177</td>\n",
       "      <td>0.0</td>\n",
       "      <td>0.00000</td>\n",
       "      <td>18.85191</td>\n",
       "    </tr>\n",
       "  </tbody>\n",
       "</table>\n",
       "</div>"
      ],
      "text/plain": [
       "                                            Center Image  \\\n",
       "6883   /home/markus/Desktop/Data/IMG/center_2018_10_0...   \n",
       "4739   /home/markus/Desktop/Data/IMG/center_2018_10_0...   \n",
       "9608   /home/markus/Desktop/Data/IMG/center_2018_10_0...   \n",
       "13080  /home/markus/Desktop/Data/IMG/center_2018_10_1...   \n",
       "10717  /home/markus/Desktop/Data/IMG/center_2018_10_1...   \n",
       "7692   /home/markus/Desktop/Data/IMG/center_2018_10_0...   \n",
       "11733  /home/markus/Desktop/Data/IMG/center_2018_10_1...   \n",
       "5654   /home/markus/Desktop/Data/IMG/center_2018_10_0...   \n",
       "270    /home/markus/Desktop/Data/IMG/center_2018_10_0...   \n",
       "7736   /home/markus/Desktop/Data/IMG/center_2018_10_0...   \n",
       "\n",
       "                                              Left Image  \\\n",
       "6883   /home/markus/Desktop/Data/IMG/left_2018_10_07_...   \n",
       "4739   /home/markus/Desktop/Data/IMG/left_2018_10_07_...   \n",
       "9608   /home/markus/Desktop/Data/IMG/left_2018_10_07_...   \n",
       "13080  /home/markus/Desktop/Data/IMG/left_2018_10_10_...   \n",
       "10717  /home/markus/Desktop/Data/IMG/left_2018_10_10_...   \n",
       "7692   /home/markus/Desktop/Data/IMG/left_2018_10_07_...   \n",
       "11733  /home/markus/Desktop/Data/IMG/left_2018_10_10_...   \n",
       "5654   /home/markus/Desktop/Data/IMG/left_2018_10_07_...   \n",
       "270    /home/markus/Desktop/Data/IMG/left_2018_10_07_...   \n",
       "7736   /home/markus/Desktop/Data/IMG/left_2018_10_07_...   \n",
       "\n",
       "                                             Right Image  Steering Angle  \\\n",
       "6883   /home/markus/Desktop/Data/IMG/right_2018_10_07...        0.541177   \n",
       "4739   /home/markus/Desktop/Data/IMG/right_2018_10_07...        0.000000   \n",
       "9608   /home/markus/Desktop/Data/IMG/right_2018_10_07...        0.000000   \n",
       "13080  /home/markus/Desktop/Data/IMG/right_2018_10_10...        0.047059   \n",
       "10717  /home/markus/Desktop/Data/IMG/right_2018_10_10...       -0.029412   \n",
       "7692   /home/markus/Desktop/Data/IMG/right_2018_10_07...        0.361765   \n",
       "11733  /home/markus/Desktop/Data/IMG/right_2018_10_10...       -0.023529   \n",
       "5654   /home/markus/Desktop/Data/IMG/right_2018_10_07...       -0.994118   \n",
       "270    /home/markus/Desktop/Data/IMG/right_2018_10_07...        0.000000   \n",
       "7736   /home/markus/Desktop/Data/IMG/right_2018_10_07...        0.541177   \n",
       "\n",
       "       Throttle    Brake     Speed  \n",
       "6883        1.0  0.00000  13.08516  \n",
       "4739        0.0  0.48045  13.78682  \n",
       "9608        1.0  0.00000  30.19023  \n",
       "13080       1.0  0.00000  30.18997  \n",
       "10717       1.0  0.00000  30.19022  \n",
       "7692        0.0  0.00000  16.44650  \n",
       "11733       1.0  0.00000  30.19028  \n",
       "5654        0.0  0.00000  12.07602  \n",
       "270         1.0  0.00000  30.19035  \n",
       "7736        0.0  0.00000  18.85191  "
      ]
     },
     "execution_count": 5,
     "metadata": {},
     "output_type": "execute_result"
    }
   ],
   "source": [
    "df = pd.read_csv(DRIVING_LOG_PATH, header=None, \n",
    "                 names=['Center Image', 'Left Image', 'Right Image', \n",
    "                        'Steering Angle', \n",
    "                        'Throttle', 'Brake', 'Speed'])\n",
    "df.sample(n=10)"
   ]
  },
  {
   "cell_type": "code",
   "execution_count": 6,
   "metadata": {},
   "outputs": [
    {
     "data": {
      "text/plain": [
       "Center Image       object\n",
       "Left Image         object\n",
       "Right Image        object\n",
       "Steering Angle    float64\n",
       "Throttle          float64\n",
       "Brake             float64\n",
       "Speed             float64\n",
       "dtype: object"
      ]
     },
     "execution_count": 6,
     "metadata": {},
     "output_type": "execute_result"
    }
   ],
   "source": [
    "df.dtypes"
   ]
  },
  {
   "cell_type": "code",
   "execution_count": 7,
   "metadata": {},
   "outputs": [],
   "source": [
    "df['Steering Angle'] = df['Steering Angle'].astype(np.float32)\n",
    "df['Throttle']       = df['Throttle'].astype(np.float32)\n",
    "df['Brake']          = df['Brake'].astype(np.float32)\n",
    "df['Speed']          = df['Speed'].astype(np.float32)"
   ]
  },
  {
   "cell_type": "markdown",
   "metadata": {},
   "source": [
    "Let's see how the data is distributed. If, for example, only left turns were made (and no data augmentation is performed), a trained model would very likely be biased towards left turns.\n",
    "\n",
    "We first define a helper function for plotting the data."
   ]
  },
  {
   "cell_type": "code",
   "execution_count": 8,
   "metadata": {},
   "outputs": [],
   "source": [
    "def histogram(series: pd.Series, name: str, label: str, filename: Optional[str]=None, bins: int=100):\n",
    "    f, axs = plt.subplots(nrows=1, ncols=2, figsize=(12, 4))\n",
    "    series.hist(bins=bins, ax=axs[0])\n",
    "    series.hist(bins=bins, log=10, ax=axs[1])\n",
    "    f.suptitle('Distribution of {}'.format(name))\n",
    "    axs[0].set_ylabel('Number of values')\n",
    "    axs[0].set_xlabel(label)\n",
    "    axs[1].set_ylabel('Number of values')\n",
    "    axs[1].set_xlabel(label)\n",
    "    sns.despine()\n",
    "    if filename is not None:\n",
    "        plt.savefig(os.path.join('examples', filename))"
   ]
  },
  {
   "cell_type": "markdown",
   "metadata": {},
   "source": [
    "When we look at the steering angles, we quickly find that most of the steering angles appear to be exactly or very close to zero. The distribution of angles also seems to be slightly skewed to the left, which we will mitigate by mirroring the images during training. We can also see some minor spikes at both ends of the spectrum indicating that extreme angles were used much more often than moderate ones."
   ]
  },
  {
   "cell_type": "code",
   "execution_count": 9,
   "metadata": {},
   "outputs": [
    {
     "data": {
      "image/png": "[encoded data removed]",
      "text/plain": [
       "<matplotlib.figure.Figure at 0x7f7e68363fd0>"
      ]
     },
     "metadata": {},
     "output_type": "display_data"
    }
   ],
   "source": [
    "histogram(df['Steering Angle'], 'steering angles', 'Angle (normalized)', 'steering-angles.png')"
   ]
  },
  {
   "cell_type": "markdown",
   "metadata": {},
   "source": [
    "Here's the number of occurrences and ranges numerically when using 100 bins as above:"
   ]
  },
  {
   "cell_type": "code",
   "execution_count": 10,
   "metadata": {},
   "outputs": [
    {
     "data": {
      "text/plain": [
       "(array([ 104,    3,   21,    2,    8,    3,    8,   11,   11,   21,   19,\n",
       "          18,   41,   17,    8,   43,   29,   37,   20,   34,   34,   49,\n",
       "          65,   38,   65,   43,   53,   62,   40,   58,   94,   42,   87,\n",
       "          73,   65,   86,   49,   99,   76,   81,   99,   72,  149,   91,\n",
       "         210,  336,  268,  644,  647,  494, 5205,  415,  371,  207,  139,\n",
       "         174,  141,   95,   70,   68,  100,   68,   90,   41,   45,   73,\n",
       "          42,   83,   52,   37,   59,   31,   77,   43,   24,   58,   44,\n",
       "          47,   23,   25,   52,   37,   48,   31,   42,   38,   32,   42,\n",
       "          16,   17,   31,   19,   22,    9,    5,   14,    6,   15,    9,\n",
       "         303]),\n",
       " array([-1.  , -0.98, -0.96, -0.94, -0.92, -0.9 , -0.88, -0.86, -0.84,\n",
       "        -0.82, -0.8 , -0.78, -0.76, -0.74, -0.72, -0.7 , -0.68, -0.66,\n",
       "        -0.64, -0.62, -0.6 , -0.58, -0.56, -0.54, -0.52, -0.5 , -0.48,\n",
       "        -0.46, -0.44, -0.42, -0.4 , -0.38, -0.36, -0.34, -0.32, -0.3 ,\n",
       "        -0.28, -0.26, -0.24, -0.22, -0.2 , -0.18, -0.16, -0.14, -0.12,\n",
       "        -0.1 , -0.08, -0.06, -0.04, -0.02,  0.  ,  0.02,  0.04,  0.06,\n",
       "         0.08,  0.1 ,  0.12,  0.14,  0.16,  0.18,  0.2 ,  0.22,  0.24,\n",
       "         0.26,  0.28,  0.3 ,  0.32,  0.34,  0.36,  0.38,  0.4 ,  0.42,\n",
       "         0.44,  0.46,  0.48,  0.5 ,  0.52,  0.54,  0.56,  0.58,  0.6 ,\n",
       "         0.62,  0.64,  0.66,  0.68,  0.7 ,  0.72,  0.74,  0.76,  0.78,\n",
       "         0.8 ,  0.82,  0.84,  0.86,  0.88,  0.9 ,  0.92,  0.94,  0.96,\n",
       "         0.98,  1.  ], dtype=float32))"
      ]
     },
     "execution_count": 10,
     "metadata": {},
     "output_type": "execute_result"
    }
   ],
   "source": [
    "counts, ranges = np.histogram(df['Steering Angle'], bins=100)\n",
    "counts, ranges"
   ]
  },
  {
   "cell_type": "markdown",
   "metadata": {},
   "source": [
    "When we median filter the occurrences, we find that the peak gets replaced with a value of 494."
   ]
  },
  {
   "cell_type": "code",
   "execution_count": 11,
   "metadata": {},
   "outputs": [
    {
     "data": {
      "text/plain": [
       "array([  3.,  21.,   3.,   8.,   3.,   8.,   8.,  11.,  11.,  19.,  19.,\n",
       "        19.,  18.,  17.,  17.,  29.,  37.,  29.,  34.,  34.,  34.,  49.,\n",
       "        49.,  65.,  43.,  53.,  53.,  53.,  58.,  58.,  58.,  87.,  73.,\n",
       "        73.,  73.,  65.,  86.,  76.,  81.,  81.,  81.,  99.,  91., 149.,\n",
       "       210., 268., 336., 644., 644., 647., 494., 415., 371., 207., 174.,\n",
       "       141., 141.,  95.,  70.,  70.,  68.,  90.,  68.,  45.,  45.,  45.,\n",
       "        73.,  52.,  52.,  52.,  37.,  59.,  43.,  43.,  43.,  44.,  47.,\n",
       "        44.,  25.,  25.,  37.,  48.,  37.,  42.,  38.,  38.,  38.,  32.,\n",
       "        17.,  17.,  19.,  22.,  19.,   9.,   9.,   6.,  14.,   9.,  15.,\n",
       "         9.])"
      ]
     },
     "execution_count": 11,
     "metadata": {},
     "output_type": "execute_result"
    }
   ],
   "source": [
    "scs.medfilt(counts)"
   ]
  },
  {
   "cell_type": "markdown",
   "metadata": {},
   "source": [
    "Given that this is about 10% of the original bin size, we'll be stochastically undersampling the \"zero\" angles by 90% (i.e. keep only randomly chosen 10% of the data) in order to prevent bias. "
   ]
  },
  {
   "cell_type": "code",
   "execution_count": 12,
   "metadata": {},
   "outputs": [
    {
     "data": {
      "text/plain": [
       "0.09490874159462055"
      ]
     },
     "execution_count": 12,
     "metadata": {},
     "output_type": "execute_result"
    }
   ],
   "source": [
    "494 / 5205"
   ]
  },
  {
   "cell_type": "markdown",
   "metadata": {},
   "source": [
    "When we look at the distribution of the absolute angles we find that the amounts appear to be log-linearly decreasing with increasing absolute angle, except for the peak at maximum angle. We could oversample angles with few occurrences, but given that these should be used only in extreme situations anyways, it might make sense to keep the distribution like that."
   ]
  },
  {
   "cell_type": "code",
   "execution_count": 13,
   "metadata": {},
   "outputs": [
    {
     "data": {
      "image/png": "[encoded data removed]",
      "text/plain": [
       "<matplotlib.figure.Figure at 0x7f7e68fade48>"
      ]
     },
     "metadata": {},
     "output_type": "display_data"
    }
   ],
   "source": [
    "histogram(df['Steering Angle'].abs(), 'absolute steering angles', 'Angle (absolute, normalized)', bins=100)"
   ]
  },
  {
   "cell_type": "markdown",
   "metadata": {},
   "source": [
    "When we look at the statistics of the absolute steering angles, we find that only 50% of the values are greater than about 0.04. Since the simulator steering angles range from `-25` to `25` (degrees, presumable), this would correspond to an angle of 0.88235 degrees (again, presumably)."
   ]
  },
  {
   "cell_type": "code",
   "execution_count": 14,
   "metadata": {},
   "outputs": [
    {
     "data": {
      "text/plain": [
       "count    13462.000000\n",
       "mean         0.165447\n",
       "std          0.257141\n",
       "min          0.000000\n",
       "25%          0.000000\n",
       "50%          0.035294\n",
       "75%          0.223529\n",
       "max          1.000000\n",
       "Name: Steering Angle, dtype: float64"
      ]
     },
     "execution_count": 14,
     "metadata": {},
     "output_type": "execute_result"
    }
   ],
   "source": [
    "df['Steering Angle'].abs().describe()"
   ]
  },
  {
   "cell_type": "markdown",
   "metadata": {},
   "source": [
    "We see that for the extreme \"angle\" of `+1` we have more values, resulting in a mean value that is slightly positive, despite the \"bump\" on the negative side of the distribution."
   ]
  },
  {
   "cell_type": "code",
   "execution_count": 15,
   "metadata": {},
   "outputs": [
    {
     "data": {
      "text/plain": [
       "count    13462.000000\n",
       "mean         0.011312\n",
       "std          0.305562\n",
       "min         -1.000000\n",
       "25%         -0.047059\n",
       "50%          0.000000\n",
       "75%          0.029412\n",
       "max          1.000000\n",
       "Name: Steering Angle, dtype: float64"
      ]
     },
     "execution_count": 15,
     "metadata": {},
     "output_type": "execute_result"
    }
   ],
   "source": [
    "df['Steering Angle'].describe()"
   ]
  },
  {
   "cell_type": "markdown",
   "metadata": {},
   "source": [
    "As stated already, mirroring the image data during training will duplicate the number of examples and iron out these small issues. Even without that, the dataset appears to be balanced; care needs to be taken not to oversample the \"zero\" angles. As they make up for more than one third (about 36%) of the training data, this could introduce a severe bias."
   ]
  },
  {
   "cell_type": "code",
   "execution_count": 16,
   "metadata": {},
   "outputs": [
    {
     "data": {
      "text/plain": [
       "0.357673451195959"
      ]
     },
     "execution_count": 16,
     "metadata": {},
     "output_type": "execute_result"
    }
   ],
   "source": [
    "sum(df['Steering Angle'] == 0) / len(df['Steering Angle'])"
   ]
  },
  {
   "cell_type": "markdown",
   "metadata": {},
   "source": [
    "The throttle values show an entirely different picture: The values are either exactly zero or exactly one, indicating that the car was mostly standing still or driving at full speed during the training data collection. When looking at the log-transformed data, we see that there are indeed some values in between, but they are most likely sampled only during acceleration phases. We might want to undersample examples of zero throttle as we don't want the model to learn how to _not_ move."
   ]
  },
  {
   "cell_type": "code",
   "execution_count": 17,
   "metadata": {},
   "outputs": [
    {
     "data": {
      "image/png": "[encoded data removed]",
      "text/plain": [
       "<matplotlib.figure.Figure at 0x7f7e693e48d0>"
      ]
     },
     "metadata": {},
     "output_type": "display_data"
    }
   ],
   "source": [
    "histogram(df['Throttle'], 'throttle amount', 'Throttle (normalized)', 'throttle-values.png')"
   ]
  },
  {
   "cell_type": "markdown",
   "metadata": {},
   "source": [
    "The brake values appear are mostly zero. This makes sense: We already know the car was moving mostly at full speed, so the brake was only used for a fraction of the time."
   ]
  },
  {
   "cell_type": "code",
   "execution_count": 18,
   "metadata": {},
   "outputs": [
    {
     "data": {
      "image/png": "[encoded data removed]",
      "text/plain": [
       "<matplotlib.figure.Figure at 0x7f7e693d8a90>"
      ]
     },
     "metadata": {},
     "output_type": "display_data"
    }
   ],
   "source": [
    "histogram(df['Brake'], 'brake amount', 'Brake (normalized)', 'brake-values.png')"
   ]
  },
  {
   "cell_type": "markdown",
   "metadata": {},
   "source": [
    "Interestingly for the speeds we find a big amount of data distributed around 15 miles/hour. This might be due to data collection on the optional track: As that one is much harder to maneuver through, lower speeds were used there. The high spike for full speed corresponds to the high spike for full throttle. Zero speed situations are of no use to us."
   ]
  },
  {
   "cell_type": "code",
   "execution_count": 19,
   "metadata": {},
   "outputs": [
    {
     "data": {
      "image/png": "[encoded data removed]",
      "text/plain": [
       "<matplotlib.figure.Figure at 0x7f7e695d86a0>"
      ]
     },
     "metadata": {},
     "output_type": "display_data"
    }
   ],
   "source": [
    "histogram(df['Speed'], 'speeds', 'Speed (miles/h)', 'speed-values.png')"
   ]
  },
  {
   "cell_type": "markdown",
   "metadata": {},
   "source": [
    "## Sampling training data"
   ]
  },
  {
   "cell_type": "markdown",
   "metadata": {},
   "source": [
    "We're going to sample data based on zero or nonzero steering angle."
   ]
  },
  {
   "cell_type": "code",
   "execution_count": 20,
   "metadata": {},
   "outputs": [
    {
     "data": {
      "text/plain": [
       "4815"
      ]
     },
     "execution_count": 20,
     "metadata": {},
     "output_type": "execute_result"
    }
   ],
   "source": [
    "zero_angles = (df['Steering Angle'] == 0)\n",
    "sum(zero_angles)"
   ]
  },
  {
   "cell_type": "markdown",
   "metadata": {},
   "source": [
    "As stated before, we're generally only interested in rows with a positive speed."
   ]
  },
  {
   "cell_type": "code",
   "execution_count": 21,
   "metadata": {},
   "outputs": [
    {
     "data": {
      "text/plain": [
       "13462"
      ]
     },
     "execution_count": 21,
     "metadata": {},
     "output_type": "execute_result"
    }
   ],
   "source": [
    "positive_speed = (df['Speed'] > 0)\n",
    "sum(positive_speed)"
   ]
  },
  {
   "cell_type": "code",
   "execution_count": 22,
   "metadata": {},
   "outputs": [
    {
     "data": {
      "text/plain": [
       "481"
      ]
     },
     "execution_count": 22,
     "metadata": {},
     "output_type": "execute_result"
    }
   ],
   "source": [
    "zero_speed_factor = 0.1\n",
    "zero_speed_count  = int(zero_speed_factor * sum(zero_angles))\n",
    "zero_speed_count"
   ]
  },
  {
   "cell_type": "code",
   "execution_count": 23,
   "metadata": {},
   "outputs": [
    {
     "data": {
      "text/plain": [
       "9128"
      ]
     },
     "execution_count": 23,
     "metadata": {},
     "output_type": "execute_result"
    }
   ],
   "source": [
    "sample_seed = 0\n",
    "valid_nonzero_angles = df[positive_speed & ~zero_angles]\n",
    "valid_zero_angles    = df[positive_speed & zero_angles].sample(zero_speed_count, random_state=sample_seed)\n",
    "dataset              = pd.concat([valid_nonzero_angles, valid_zero_angles])\n",
    "len(dataset)"
   ]
  },
  {
   "cell_type": "markdown",
   "metadata": {},
   "source": [
    "For the first iteration of training, we're only going to train with images from the center camera."
   ]
  },
  {
   "cell_type": "code",
   "execution_count": 24,
   "metadata": {},
   "outputs": [
    {
     "name": "stderr",
     "output_type": "stream",
     "text": [
      "Using TensorFlow backend.\n"
     ]
    }
   ],
   "source": [
    "import keras"
   ]
  },
  {
   "cell_type": "markdown",
   "metadata": {},
   "source": [
    "We'll be using a custom data generator as described in [A detailed example of how to use data generators with Keras](https://stanford.edu/~shervine/blog/keras-how-to-generate-data-on-the-fly)."
   ]
  },
  {
   "cell_type": "code",
   "execution_count": 25,
   "metadata": {},
   "outputs": [],
   "source": [
    "class DataGenerator(keras.utils.Sequence):\n",
    "    'Generates data for Keras'\n",
    "    def __init__(self, list_IDs, labels, batch_size=32, dim=(32,32,32), n_channels=1,\n",
    "                 n_classes=10, shuffle=True):\n",
    "        'Initialization'\n",
    "        self.dim = dim\n",
    "        self.batch_size = batch_size\n",
    "        self.labels = labels\n",
    "        self.list_IDs = list_IDs\n",
    "        self.n_channels = n_channels\n",
    "        self.n_classes = n_classes\n",
    "        self.shuffle = shuffle\n",
    "        self.on_epoch_end()\n",
    "\n",
    "    def __len__(self):\n",
    "        'Denotes the number of batches per epoch'\n",
    "        return int(np.floor(len(self.list_IDs) / self.batch_size))\n",
    "\n",
    "    def __getitem__(self, index):\n",
    "        'Generate one batch of data'\n",
    "        # Generate indexes of the batch\n",
    "        indexes = self.indexes[index*self.batch_size:(index+1)*self.batch_size]\n",
    "\n",
    "        # Find list of IDs\n",
    "        list_IDs_temp = [self.list_IDs[k] for k in indexes]\n",
    "\n",
    "        # Generate data\n",
    "        X, y = self.__data_generation(list_IDs_temp)\n",
    "\n",
    "        return X, y\n",
    "\n",
    "    def on_epoch_end(self):\n",
    "        'Updates indexes after each epoch'\n",
    "        self.indexes = np.arange(len(self.list_IDs))\n",
    "        if self.shuffle == True:\n",
    "            np.random.shuffle(self.indexes)\n",
    "\n",
    "    def __data_generation(self, list_IDs_temp):\n",
    "        'Generates data containing batch_size samples' # X : (n_samples, *dim, n_channels)\n",
    "        # Initialization\n",
    "        X = np.empty((self.batch_size, *self.dim, self.n_channels))\n",
    "        y = np.empty((self.batch_size), dtype=int)\n",
    "\n",
    "        # Generate data\n",
    "        for i, ID in enumerate(list_IDs_temp):\n",
    "            # Store sample\n",
    "            X[i,] = np.load('data/' + ID + '.npy')\n",
    "\n",
    "            # Store class\n",
    "            y[i] = self.labels[ID]\n",
    "\n",
    "        return X, keras.utils.to_categorical(y, num_classes=self.n_classes)"
   ]
  }
 ],
 "metadata": {
  "anaconda-cloud": {},
  "kernelspec": {
   "display_name": "Python [conda env:carnd-term1]",
   "language": "python",
   "name": "conda-env-carnd-term1-py"
  },
  "language_info": {
   "codemirror_mode": {
    "name": "ipython",
    "version": 3
   },
   "file_extension": ".py",
   "mimetype": "text/x-python",
   "name": "python",
   "nbconvert_exporter": "python",
   "pygments_lexer": "ipython3",
   "version": "3.5.5"
  },
  "widgets": {
   "state": {},
   "version": "1.1.2"
  }
 },
 "nbformat": 4,
 "nbformat_minor": 2
}
